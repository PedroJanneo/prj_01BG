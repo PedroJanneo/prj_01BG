{
 "cells": [
  {
   "cell_type": "code",
   "execution_count": 9,
   "metadata": {},
   "outputs": [],
   "source": [
    "from pyspark.sql import SparkSession\n",
    "\n",
    "# Criar uma sessão Spark\n",
    "spark = SparkSession.builder.appName(\"Exemplo Spark SQL\").getOrCreate()\n",
    "\n",
    "  "
   ]
  },
  {
   "cell_type": "code",
   "execution_count": 12,
   "metadata": {},
   "outputs": [
    {
     "name": "stdout",
     "output_type": "stream",
     "text": [
      "Estudantes com mais de 20 anos:\n",
      "+-----+-----+----------+\n",
      "| Nome|Idade|     Curso|\n",
      "+-----+-----+----------+\n",
      "|Pedro|   22|    Física|\n",
      "|Lucas|   21|  Biologia|\n",
      "| João|   22|Matemática|\n",
      "+-----+-----+----------+\n",
      "\n",
      "Número de estudantes por curso:\n"
     ]
    },
    {
     "name": "stderr",
     "output_type": "stream",
     "text": [
      "                                                                                \r"
     ]
    },
    {
     "name": "stdout",
     "output_type": "stream",
     "text": [
      "+----------+-----+\n",
      "|     Curso|Total|\n",
      "+----------+-----+\n",
      "|    Física|    1|\n",
      "|Matemática|    2|\n",
      "|  Biologia|    1|\n",
      "|   Química|    1|\n",
      "+----------+-----+\n",
      "\n",
      "Idade média dos estudantes:\n",
      "+----------+\n",
      "|IdadeMedia|\n",
      "+----------+\n",
      "|      20.8|\n",
      "+----------+\n",
      "\n"
     ]
    }
   ],
   "source": [
    "      #Criar um conjunto de dados fictício sobre estudantes\n",
    "data = [\n",
    "    (\"Ana\",20,\"Matemática\"),\n",
    "    (\"Pedro\", 22, \"Física\"),\n",
    "    (\"Maria\", 19, \"Química\"),\n",
    "    (\"Lucas\", 21, \"Biologia\"),\n",
    "    (\"João\", 22, \"Matemática\")\n",
    "]\n",
    "\n",
    "    # Definir os nomes das colunas\n",
    "columns = [\"Nome\",\"Idade\",\"Curso\"]\n",
    "\n",
    "# Criar um DataFrame\n",
    "df = spark.createDataFrame(data, columns)\n",
    "\n",
    "#Registrar o DataFrame como uma tabela temporária\n",
    "df.createOrReplaceTempView(\"Estudadantes\")\n",
    "\n",
    "#Executar consultas SQL\n",
    "print(\"Estudantes com mais de 20 anos:\")\n",
    "spark.sql(\"SELECT * FROM Estudadantes WHERE Idade > 20\").show()\n",
    "\n",
    "print(\"Número de estudantes por curso:\")\n",
    "spark.sql(\"SELECT Curso, COUNT(*) AS Total FROM Estudadantes GROUP BY Curso\").show()\n",
    "\n",
    "print(\"Idade média dos estudantes:\")\n",
    "spark.sql(\"SELECT AVG(Idade) AS IdadeMedia FROM Estudadantes\").show()\n",
    "\n",
    "# Encerrar a sessão Spark\n",
    "spark.stop()"
   ]
  }
 ],
 "metadata": {
  "kernelspec": {
   "display_name": "Python 3",
   "language": "python",
   "name": "python3"
  },
  "language_info": {
   "codemirror_mode": {
    "name": "ipython",
    "version": 3
   },
   "file_extension": ".py",
   "mimetype": "text/x-python",
   "name": "python",
   "nbconvert_exporter": "python",
   "pygments_lexer": "ipython3",
   "version": "3.12.1"
  }
 },
 "nbformat": 4,
 "nbformat_minor": 2
}
